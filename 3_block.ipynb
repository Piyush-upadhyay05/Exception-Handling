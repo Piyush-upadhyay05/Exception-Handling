{
 "cells": [
  {
   "cell_type": "markdown",
   "metadata": {},
   "source": [
    "try block"
   ]
  },
  {
   "cell_type": "code",
   "execution_count": null,
   "metadata": {},
   "outputs": [
    {
     "name": "stdout",
     "output_type": "stream",
     "text": [
      "name 'di' is not defined\n",
      "rest of the code\n"
     ]
    }
   ],
   "source": [
    "num1 = int(input(\"enter the first number\"))\n",
    "num2 = int(input(\"enter the second number\"))\n",
    "try:\n",
    "    div = num1/num2\n",
    "    print(di)\n",
    "except ZeroDivisionError :\n",
    "    print(\"in python zero is not allowed in divisior\")\n",
    "except NameError:\n",
    "    print(\"name error occured\")\n",
    "print(\"rest of the code\")"
   ]
  },
  {
   "cell_type": "markdown",
   "metadata": {},
   "source": [
    "to print the error "
   ]
  },
  {
   "cell_type": "code",
   "execution_count": 6,
   "metadata": {},
   "outputs": [
    {
     "name": "stdout",
     "output_type": "stream",
     "text": [
      "name 'di' is not defined\n",
      "rest of the code\n"
     ]
    }
   ],
   "source": [
    "num1 = int(input(\"enter the first number\"))\n",
    "num2 = int(input(\"enter the second number\"))\n",
    "try:\n",
    "    div = num1/num2\n",
    "    print(di)\n",
    "except ZeroDivisionError :\n",
    "    print(\"in python zero is not allowed in divisior\")\n",
    "except (NameError) as obj:\n",
    "    print(obj)\n",
    "print(\"rest of the code\")"
   ]
  },
  {
   "cell_type": "markdown",
   "metadata": {},
   "source": [
    "else"
   ]
  },
  {
   "cell_type": "code",
   "execution_count": 7,
   "metadata": {},
   "outputs": [
    {
     "name": "stdout",
     "output_type": "stream",
     "text": [
      "5.0\n",
      "dint get an exception\n",
      "rest of the code\n"
     ]
    }
   ],
   "source": [
    "num1 = int(input(\"enter the first number\"))\n",
    "num2 = int(input(\"enter the second number\"))\n",
    "try:\n",
    "    div = num1/num2\n",
    "    print(div)\n",
    "except ZeroDivisionError :\n",
    "    print(\"in python zero is not allowed in divisior\")\n",
    "except (NameError) as obj:\n",
    "    print(obj)\n",
    "else:\n",
    "    print(\"dint get an exception\")\n",
    "print(\"rest of the code\")"
   ]
  },
  {
   "cell_type": "markdown",
   "metadata": {},
   "source": [
    "to print the exception name and the information"
   ]
  },
  {
   "cell_type": "code",
   "execution_count": 10,
   "metadata": {},
   "outputs": [
    {
     "name": "stdout",
     "output_type": "stream",
     "text": [
      "division by zero\n"
     ]
    }
   ],
   "source": [
    "num1 = int(input(\"enter the first number\"))\n",
    "num2 = int(input(\"enter the second number\"))\n",
    "try:\n",
    "    div = num1/num2\n",
    "    print(di)\n",
    "except ZeroDivisionError as var:\n",
    "    print(var)"
   ]
  }
 ],
 "metadata": {
  "kernelspec": {
   "display_name": "Python 3",
   "language": "python",
   "name": "python3"
  },
  "language_info": {
   "codemirror_mode": {
    "name": "ipython",
    "version": 3
   },
   "file_extension": ".py",
   "mimetype": "text/x-python",
   "name": "python",
   "nbconvert_exporter": "python",
   "pygments_lexer": "ipython3",
   "version": "3.13.3"
  }
 },
 "nbformat": 4,
 "nbformat_minor": 2
}

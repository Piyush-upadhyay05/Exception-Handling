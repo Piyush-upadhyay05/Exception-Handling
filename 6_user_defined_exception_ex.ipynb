{
 "cells": [
  {
   "cell_type": "markdown",
   "metadata": {},
   "source": [
    "example that say every use of exception handling \n",
    "\n",
    "requirements :\n",
    "- withdram money from bank \n",
    "- balance in bank should not be less than zero \n",
    "- user account will be blocked for an hour if the user put 3 times wrong pin"
   ]
  },
  {
   "cell_type": "code",
   "execution_count": 5,
   "metadata": {},
   "outputs": [
    {
     "name": "stdout",
     "output_type": "stream",
     "text": [
      "do you want to continue (y/n)\n",
      "remained balance 2000.0\n"
     ]
    }
   ],
   "source": [
    "import time\n",
    "class BalanceExceptionError(Exception):\n",
    "    pass\n",
    "class AttemptExceptionError(Exception):\n",
    "    pass\n",
    "\n",
    "attempts = 1\n",
    "def withdraw():\n",
    "    saved_pin = 1234\n",
    "    global attempts\n",
    "    balance = 10000\n",
    "    pin = int(input(\"enter the PIN\"))\n",
    "    if pin==saved_pin:\n",
    "        try:\n",
    "            amt = float(input(\"enter the amount to withdraw\"))\n",
    "            temp_bal = balance - amt\n",
    "            if temp_bal<1000:\n",
    "                raise BalanceExceptionError(\"unsufficiant error\")\n",
    "            balance = balance-amt\n",
    "            print(\"remained balance\",balance)\n",
    "        except Exception as var:\n",
    "            print(var)\n",
    "\n",
    "    else:\n",
    "        ans = input(print(\"do you want to continue (y/n)\"))\n",
    "        if ans.lower() == 'y':\n",
    "            attempts += 1\n",
    "            try:\n",
    "                if attempts == 4:\n",
    "                    raise AttemptExceptionError(\"attempt too much your account has been blocked for an hour\")\n",
    "            except Exception as var:\n",
    "                print(var)\n",
    "                time.sleep(360)\n",
    "            else:\n",
    "                withdraw()\n",
    "        else:\n",
    "            print(\"thank you\")\n",
    "            return\n",
    "\n",
    "withdraw()"
   ]
  }
 ],
 "metadata": {
  "kernelspec": {
   "display_name": "Python 3",
   "language": "python",
   "name": "python3"
  },
  "language_info": {
   "codemirror_mode": {
    "name": "ipython",
    "version": 3
   },
   "file_extension": ".py",
   "mimetype": "text/x-python",
   "name": "python",
   "nbconvert_exporter": "python",
   "pygments_lexer": "ipython3",
   "version": "3.13.3"
  }
 },
 "nbformat": 4,
 "nbformat_minor": 2
}

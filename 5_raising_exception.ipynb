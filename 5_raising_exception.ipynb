{
 "cells": [
  {
   "cell_type": "markdown",
   "metadata": {},
   "source": [
    "# raising exception manually \n",
    "- we raise an exception using raise keyword \n",
    "- It means you intentionally trigger an exception in your code using the raise statement — even if no error occurred naturally.\n",
    "- syntax "
   ]
  },
  {
   "cell_type": "code",
   "execution_count": null,
   "metadata": {},
   "outputs": [],
   "source": [
    "raise ExceptionType(\"Error message\")\n"
   ]
  },
  {
   "cell_type": "markdown",
   "metadata": {},
   "source": [
    "example "
   ]
  },
  {
   "cell_type": "code",
   "execution_count": 1,
   "metadata": {},
   "outputs": [
    {
     "ename": "ValueError",
     "evalue": "Age cannot be negative!",
     "output_type": "error",
     "traceback": [
      "\u001b[31m---------------------------------------------------------------------------\u001b[39m",
      "\u001b[31mValueError\u001b[39m                                Traceback (most recent call last)",
      "\u001b[36mCell\u001b[39m\u001b[36m \u001b[39m\u001b[32mIn[1]\u001b[39m\u001b[32m, line 3\u001b[39m\n\u001b[32m      1\u001b[39m age = \u001b[38;5;28mint\u001b[39m(\u001b[38;5;28minput\u001b[39m(\u001b[33m\"\u001b[39m\u001b[33mEnter your age: \u001b[39m\u001b[33m\"\u001b[39m))\n\u001b[32m      2\u001b[39m \u001b[38;5;28;01mif\u001b[39;00m age < \u001b[32m0\u001b[39m:\n\u001b[32m----> \u001b[39m\u001b[32m3\u001b[39m     \u001b[38;5;28;01mraise\u001b[39;00m \u001b[38;5;167;01mValueError\u001b[39;00m(\u001b[33m\"\u001b[39m\u001b[33mAge cannot be negative!\u001b[39m\u001b[33m\"\u001b[39m)\n\u001b[32m      4\u001b[39m \u001b[38;5;28;01melse\u001b[39;00m:\n\u001b[32m      5\u001b[39m     \u001b[38;5;28mprint\u001b[39m(\u001b[33m\"\u001b[39m\u001b[33mYour age is\u001b[39m\u001b[33m\"\u001b[39m, age)\n",
      "\u001b[31mValueError\u001b[39m: Age cannot be negative!"
     ]
    }
   ],
   "source": [
    "age = int(input(\"Enter your age: \"))\n",
    "if age < 0:\n",
    "    raise ValueError(\"Age cannot be negative!\")\n",
    "else:\n",
    "    print(\"Your age is\", age)\n"
   ]
  },
  {
   "cell_type": "markdown",
   "metadata": {},
   "source": [
    "custom exception raising "
   ]
  },
  {
   "cell_type": "markdown",
   "metadata": {},
   "source": [
    "syntax:"
   ]
  },
  {
   "cell_type": "code",
   "execution_count": null,
   "metadata": {},
   "outputs": [],
   "source": [
    "class mycustomerror(Exception):\n",
    "    pass"
   ]
  },
  {
   "cell_type": "markdown",
   "metadata": {},
   "source": [
    "example:"
   ]
  },
  {
   "cell_type": "code",
   "execution_count": 5,
   "metadata": {},
   "outputs": [
    {
     "ename": "NegativeAgeError",
     "evalue": "Age cannot be negative!",
     "output_type": "error",
     "traceback": [
      "\u001b[31m---------------------------------------------------------------------------\u001b[39m",
      "\u001b[31mNegativeAgeError\u001b[39m                          Traceback (most recent call last)",
      "\u001b[36mCell\u001b[39m\u001b[36m \u001b[39m\u001b[32mIn[5]\u001b[39m\u001b[32m, line 6\u001b[39m\n\u001b[32m      4\u001b[39m age = \u001b[38;5;28mint\u001b[39m(\u001b[38;5;28minput\u001b[39m(\u001b[33m\"\u001b[39m\u001b[33mEnter your age: \u001b[39m\u001b[33m\"\u001b[39m))\n\u001b[32m      5\u001b[39m \u001b[38;5;28;01mif\u001b[39;00m age < \u001b[32m0\u001b[39m:\n\u001b[32m----> \u001b[39m\u001b[32m6\u001b[39m     \u001b[38;5;28;01mraise\u001b[39;00m NegativeAgeError(\u001b[33m\"\u001b[39m\u001b[33mAge cannot be negative!\u001b[39m\u001b[33m\"\u001b[39m)\n\u001b[32m      7\u001b[39m \u001b[38;5;28;01melse\u001b[39;00m:\n\u001b[32m      8\u001b[39m     \u001b[38;5;28mprint\u001b[39m(\u001b[33m\"\u001b[39m\u001b[33mYour age is:\u001b[39m\u001b[33m\"\u001b[39m, age)\n",
      "\u001b[31mNegativeAgeError\u001b[39m: Age cannot be negative!"
     ]
    }
   ],
   "source": [
    "class NegativeAgeError(Exception):\n",
    "    pass\n",
    "\n",
    "age = int(input(\"Enter your age: \"))\n",
    "if age < 0:\n",
    "    raise NegativeAgeError(\"Age cannot be negative!\")\n",
    "else:\n",
    "    print(\"Your age is:\", age)\n"
   ]
  },
  {
   "cell_type": "code",
   "execution_count": 7,
   "metadata": {},
   "outputs": [
    {
     "ename": "NegativeAgeError",
     "evalue": "Value is smaller than zero",
     "output_type": "error",
     "traceback": [
      "\u001b[31m---------------------------------------------------------------------------\u001b[39m",
      "\u001b[31mNegativeAgeError\u001b[39m                          Traceback (most recent call last)",
      "\u001b[36mCell\u001b[39m\u001b[36m \u001b[39m\u001b[32mIn[7]\u001b[39m\u001b[32m, line 8\u001b[39m\n\u001b[32m      6\u001b[39m age = \u001b[38;5;28mint\u001b[39m(\u001b[38;5;28minput\u001b[39m(\u001b[33m\"\u001b[39m\u001b[33mEnter the age: \u001b[39m\u001b[33m\"\u001b[39m))\n\u001b[32m      7\u001b[39m \u001b[38;5;28;01mif\u001b[39;00m age < \u001b[32m0\u001b[39m:\n\u001b[32m----> \u001b[39m\u001b[32m8\u001b[39m     \u001b[38;5;28;01mraise\u001b[39;00m NegativeAgeError(\u001b[33m\"\u001b[39m\u001b[33mValue is smaller than zero\u001b[39m\u001b[33m\"\u001b[39m)\n\u001b[32m      9\u001b[39m \u001b[38;5;28;01melse\u001b[39;00m:\n\u001b[32m     10\u001b[39m     \u001b[38;5;28mprint\u001b[39m(\u001b[33m\"\u001b[39m\u001b[33mYour age is\u001b[39m\u001b[33m\"\u001b[39m, age)\n",
      "\u001b[31mNegativeAgeError\u001b[39m: Value is smaller than zero"
     ]
    }
   ],
   "source": [
    "class NegativeAgeError(Exception):\n",
    "    def __init__(self, message=\"Age cannot be negative\"):\n",
    "        self.message = message\n",
    "        super().__init__(self.message)\n",
    "\n",
    "age = int(input(\"Enter the age: \"))\n",
    "if age < 0:\n",
    "    raise NegativeAgeError(\"Value is smaller than zero\")\n",
    "else:\n",
    "    print(\"Your age is\", age)\n"
   ]
  },
  {
   "cell_type": "markdown",
   "metadata": {},
   "source": [
    "custom exception with constructor "
   ]
  },
  {
   "cell_type": "code",
   "execution_count": 6,
   "metadata": {},
   "outputs": [
    {
     "ename": "TooYoungError",
     "evalue": "Age 12 is too young for this operation.",
     "output_type": "error",
     "traceback": [
      "\u001b[31m---------------------------------------------------------------------------\u001b[39m",
      "\u001b[31mTooYoungError\u001b[39m                             Traceback (most recent call last)",
      "\u001b[36mCell\u001b[39m\u001b[36m \u001b[39m\u001b[32mIn[6]\u001b[39m\u001b[32m, line 10\u001b[39m\n\u001b[32m      8\u001b[39m age = \u001b[38;5;28mint\u001b[39m(\u001b[38;5;28minput\u001b[39m(\u001b[33m\"\u001b[39m\u001b[33mEnter age: \u001b[39m\u001b[33m\"\u001b[39m))\n\u001b[32m      9\u001b[39m \u001b[38;5;28;01mif\u001b[39;00m age < \u001b[32m18\u001b[39m:\n\u001b[32m---> \u001b[39m\u001b[32m10\u001b[39m     \u001b[38;5;28;01mraise\u001b[39;00m TooYoungError(age)\n",
      "\u001b[31mTooYoungError\u001b[39m: Age 12 is too young for this operation."
     ]
    }
   ],
   "source": [
    "class TooYoungError(Exception):\n",
    "    def __init__(self, age):\n",
    "        self.age = age\n",
    "\n",
    "    def __str__(self):\n",
    "        return f\"Age {self.age} is too young for this operation.\"\n",
    "\n",
    "age = int(input(\"Enter age: \"))\n",
    "if age < 18:\n",
    "    raise TooYoungError(age)\n"
   ]
  },
  {
   "cell_type": "markdown",
   "metadata": {},
   "source": [
    "handling custom exception using try-except "
   ]
  },
  {
   "cell_type": "code",
   "execution_count": null,
   "metadata": {},
   "outputs": [],
   "source": [
    "class PasswordTooShortError(Exception):\n",
    "    pass\n",
    "\n",
    "try:\n",
    "    password = input(\"Enter password: \")\n",
    "    if len(password) < 6:\n",
    "        raise PasswordTooShortError(\"Password must be at least 6 characters.\")\n",
    "except PasswordTooShortError as e:\n",
    "    print(\"Error:\", e)\n"
   ]
  },
  {
   "cell_type": "markdown",
   "metadata": {},
   "source": [
    "custom exception with exception "
   ]
  },
  {
   "cell_type": "code",
   "execution_count": 9,
   "metadata": {},
   "outputs": [],
   "source": [
    "class TooYoungError(Exception):\n",
    "    def __init__(self, age):\n",
    "        self.age = age\n",
    "\n",
    "    def __str__(self):\n",
    "        return f\"Age {self.age} is too young for this operation.\"\n",
    "\n",
    "age = int(input(\"Enter age: \"))\n",
    "if age < 18:\n",
    "    raise TooYoungError(age)\n"
   ]
  },
  {
   "cell_type": "markdown",
   "metadata": {},
   "source": [
    "handling custom exception using try-except"
   ]
  },
  {
   "cell_type": "code",
   "execution_count": 1,
   "metadata": {},
   "outputs": [],
   "source": [
    "class PasswordTooShortError(Exception):\n",
    "    pass\n",
    "\n",
    "try:\n",
    "    password = input(\"Enter password: \")\n",
    "    if len(password) < 6:\n",
    "        raise PasswordTooShortError(\"Password must be at least 6 characters.\")\n",
    "except PasswordTooShortError as e:\n",
    "    print(\"Error:\", e)\n"
   ]
  },
  {
   "cell_type": "markdown",
   "metadata": {},
   "source": [
    "exception hierarchy - it is a graphical representation of exception class \n",
    "\n",
    "- in this hierarchy everthing is class "
   ]
  }
 ],
 "metadata": {
  "kernelspec": {
   "display_name": "Python 3",
   "language": "python",
   "name": "python3"
  },
  "language_info": {
   "codemirror_mode": {
    "name": "ipython",
    "version": 3
   },
   "file_extension": ".py",
   "mimetype": "text/x-python",
   "name": "python",
   "nbconvert_exporter": "python",
   "pygments_lexer": "ipython3",
   "version": "3.13.3"
  }
 },
 "nbformat": 4,
 "nbformat_minor": 2
}

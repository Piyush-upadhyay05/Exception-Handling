{
 "cells": [
  {
   "cell_type": "markdown",
   "metadata": {},
   "source": [
    "#### there are two major uses of exception handling \n",
    "\n",
    "- 1. in file handling \n",
    "- 2. in PDBC"
   ]
  },
  {
   "cell_type": "markdown",
   "metadata": {},
   "source": [
    "in file handling "
   ]
  },
  {
   "cell_type": "code",
   "execution_count": null,
   "metadata": {},
   "outputs": [],
   "source": [
    "# normal way to open file\n",
    "f = open(\"leetcode.txt\") \n",
    "# opearations \n",
    "f.close() \n",
    "# this is the way to open file suppose this name file is not present . then you will get an error then you write your code in try block "
   ]
  },
  {
   "cell_type": "code",
   "execution_count": 4,
   "metadata": {},
   "outputs": [
    {
     "name": "stdout",
     "output_type": "stream",
     "text": [
      "[Errno 2] No such file or directory: 'leet-code.txt'\n",
      "rest of the code\n"
     ]
    }
   ],
   "source": [
    "try:\n",
    "    f = open(\"leet-code.txt\",mode='r')\n",
    "    # operations\n",
    "except Exception as obj:\n",
    "    print(obj)\n",
    "else:\n",
    "    f.close()\n",
    "\n",
    "print(\"rest of the code\")\n",
    "# if the file is not present then you will get the error message not any barrier to the rest of the code rest of the code is running will not stop 1"
   ]
  }
 ],
 "metadata": {
  "kernelspec": {
   "display_name": "Python 3",
   "language": "python",
   "name": "python3"
  },
  "language_info": {
   "codemirror_mode": {
    "name": "ipython",
    "version": 3
   },
   "file_extension": ".py",
   "mimetype": "text/x-python",
   "name": "python",
   "nbconvert_exporter": "python",
   "pygments_lexer": "ipython3",
   "version": "3.13.3"
  }
 },
 "nbformat": 4,
 "nbformat_minor": 2
}

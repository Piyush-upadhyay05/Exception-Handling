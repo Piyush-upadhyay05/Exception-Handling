{
 "cells": [
  {
   "cell_type": "markdown",
   "metadata": {},
   "source": [
    "important built in exception in python \n",
    "\n",
    "| Exception               | Description                                                          | Example                               |\n",
    "| ----------------------- | -------------------------------------------------------------------- | ------------------------------------- |\n",
    "| **ZeroDivisionError**   | Raised when a number is divided by zero.                             | `10 / 0`                              |\n",
    "| **TypeError**           | Operation or function is applied to an object of inappropriate type. | `\"2\" + 2`                             |\n",
    "| **ValueError**          | Function receives correct type but inappropriate value.              | `int(\"abc\")`                          |\n",
    "| **IndexError**          | Raised when a sequence index is out of range.                        | `lst[10]`                             |\n",
    "| **KeyError**            | Raised when a dictionary key is not found.                           | `dict['missing']`                     |\n",
    "| **NameError**           | Raised when a variable is not defined.                               | `print(x)`                            |\n",
    "| **AttributeError**      | Raised when an attribute reference is invalid.                       | `\"hello\".no_attr`                     |\n",
    "| **ImportError**         | Raised when an import fails.                                         | `import non_existing`                 |\n",
    "| **ModuleNotFoundError** | Subclass of ImportError when module is missing.                      | `import abcxyz`                       |\n",
    "| **FileNotFoundError**   | File or directory not found.                                         | `open('nofile.txt')`                  |\n",
    "| **PermissionError**     | Raised when trying to access a file without permission.              | Writing to a read-only file.          |\n",
    "| **IndentationError**    | Raised for incorrect indentation.                                    | Improper tab/space use.               |\n",
    "| **TabError**            | Mixing tabs and spaces.                                              | Inconsistent indentation.             |\n",
    "| **SyntaxError**         | Invalid Python syntax.                                               | `if True print(\"hello\")`              |\n",
    "| **RuntimeError**        | Raised when an error does not fall into any other category.          | Manually raised.                      |\n",
    "| **RecursionError**      | Too many recursive calls.                                            | Recursive function without base case. |\n",
    "| **MemoryError**         | Raised when an operation runs out of memory.                         | Huge object allocation.               |\n",
    "| **AssertionError**      | Raised when an assert statement fails.                               | `assert 1 == 0`                       |\n",
    "| **EOFError**            | Raised when `input()` hits end-of-file.                              | CTRL+D in terminal                    |\n",
    "| **StopIteration**       | Raised when `next()` has no more items.                              | Iterating past end.                   |\n"
   ]
  },
  {
   "cell_type": "markdown",
   "metadata": {},
   "source": [
    "system levle exception\n",
    "\n",
    "| Exception             | Description                                               |\n",
    "| --------------------- | --------------------------------------------------------- |\n",
    "| **SystemExit**        | Raised by `sys.exit()` to exit the program.               |\n",
    "| **KeyboardInterrupt** | Raised when the user interrupts execution (e.g., Ctrl+C). |\n",
    "| **GeneratorExit**     | Raised when a generator is closed.                        |\n"
   ]
  },
  {
   "cell_type": "markdown",
   "metadata": {},
   "source": [
    "lookup error \n",
    "\n",
    "- 1. indexerror\n",
    "- 2. keyerror "
   ]
  },
  {
   "cell_type": "markdown",
   "metadata": {},
   "source": [
    "arithemetic error \n",
    "\n",
    "- 1. zeroDivisorerror\n",
    "- 2. overflowerror \n",
    "- 3. floatingpoint error\n"
   ]
  },
  {
   "cell_type": "markdown",
   "metadata": {},
   "source": [
    "OSError → (Base for file-related and system errors)\n",
    "\n",
    "- FileNotFoundError\n",
    "\n",
    "- PermissionError\n",
    "\n",
    "- BlockingIOError\n",
    "\n",
    "- ChildProcessError\n",
    "\n",
    "- IsADirectoryError\n",
    "\n",
    "... and more"
   ]
  },
  {
   "cell_type": "markdown",
   "metadata": {},
   "source": [
    "UnicodeError → (Base class for Unicode related errors)\n",
    "\n",
    "Includes:\n",
    "\n",
    "    UnicodeEncodeError\n",
    "\n",
    "    UnicodeDecodeError\n",
    "\n",
    "    UnicodeTranslateError"
   ]
  },
  {
   "cell_type": "markdown",
   "metadata": {},
   "source": [
    "Warning Classes (subclass of Warning)\n",
    "\n",
    "These are not errors, but Python shows warnings at runtime:\n",
    "\n",
    "    DeprecationWarning\n",
    "\n",
    "    SyntaxWarning\n",
    "\n",
    "    RuntimeWarning\n",
    "\n",
    "    UserWarning\n",
    "\n",
    "    FutureWarning"
   ]
  },
  {
   "cell_type": "markdown",
   "metadata": {},
   "source": [
    "### there are many types of exception i have to study following of them\n",
    "\n",
    "* Common built-in exceptions:\n",
    "\n",
    "  * `ZeroDivisionError`\n",
    "  * `TypeError`\n",
    "  * `ValueError`\n",
    "  * `IndexError`\n",
    "  * `KeyError`\n",
    "  * `FileNotFoundError`\n",
    "  * `AttributeError`\n",
    "  * `ImportError`\n",
    "  * `NameError`\n",
    "  * `OverflowError`"
   ]
  },
  {
   "cell_type": "code",
   "execution_count": null,
   "metadata": {},
   "outputs": [
    {
     "ename": "ZeroDivisionError",
     "evalue": "division by zero",
     "output_type": "error",
     "traceback": [
      "\u001b[31m---------------------------------------------------------------------------\u001b[39m",
      "\u001b[31mZeroDivisionError\u001b[39m                         Traceback (most recent call last)",
      "\u001b[36mCell\u001b[39m\u001b[36m \u001b[39m\u001b[32mIn[2]\u001b[39m\u001b[32m, line 3\u001b[39m\n\u001b[32m      1\u001b[39m num1 = \u001b[32m10\u001b[39m\n\u001b[32m      2\u001b[39m num2 = \u001b[32m0\u001b[39m\n\u001b[32m----> \u001b[39m\u001b[32m3\u001b[39m \u001b[38;5;28mprint\u001b[39m(\u001b[43mnum1\u001b[49m\u001b[43m/\u001b[49m\u001b[43mnum2\u001b[49m)\n",
      "\u001b[31mZeroDivisionError\u001b[39m: division by zero"
     ]
    }
   ],
   "source": [
    "num1 = 10\n",
    "num2 = 0\n",
    "print(num1/num2) # zeroDivisorerror"
   ]
  },
  {
   "cell_type": "code",
   "execution_count": 4,
   "metadata": {},
   "outputs": [
    {
     "ename": "TypeError",
     "evalue": "unsupported operand type(s) for +: 'int' and 'str'",
     "output_type": "error",
     "traceback": [
      "\u001b[31m---------------------------------------------------------------------------\u001b[39m",
      "\u001b[31mTypeError\u001b[39m                                 Traceback (most recent call last)",
      "\u001b[36mCell\u001b[39m\u001b[36m \u001b[39m\u001b[32mIn[4]\u001b[39m\u001b[32m, line 4\u001b[39m\n\u001b[32m      2\u001b[39m \u001b[38;5;28mint\u001b[39m = \u001b[32m20\u001b[39m\n\u001b[32m      3\u001b[39m \u001b[38;5;28mstr\u001b[39m = \u001b[33m\"\u001b[39m\u001b[33mhello\u001b[39m\u001b[33m\"\u001b[39m\n\u001b[32m----> \u001b[39m\u001b[32m4\u001b[39m \u001b[38;5;28mprint\u001b[39m(\u001b[38;5;28;43mint\u001b[39;49m\u001b[43m+\u001b[49m\u001b[38;5;28;43mstr\u001b[39;49m)\n",
      "\u001b[31mTypeError\u001b[39m: unsupported operand type(s) for +: 'int' and 'str'"
     ]
    }
   ],
   "source": [
    "# type error\n",
    "int = 20\n",
    "str = \"hello\"\n",
    "print(int+str)"
   ]
  },
  {
   "cell_type": "markdown",
   "metadata": {},
   "source": [
    "valueerror \n",
    "\n",
    "- A ValueError occurs when a function receives an argument of the correct data type, but with a value that is not appropriate."
   ]
  },
  {
   "cell_type": "code",
   "execution_count": null,
   "metadata": {},
   "outputs": [
    {
     "ename": "ValueError",
     "evalue": "math domain error",
     "output_type": "error",
     "traceback": [
      "\u001b[31m---------------------------------------------------------------------------\u001b[39m",
      "\u001b[31mValueError\u001b[39m                                Traceback (most recent call last)",
      "\u001b[36mCell\u001b[39m\u001b[36m \u001b[39m\u001b[32mIn[7]\u001b[39m\u001b[32m, line 3\u001b[39m\n\u001b[32m      1\u001b[39m \u001b[38;5;28;01mimport\u001b[39;00m\u001b[38;5;250m \u001b[39m\u001b[34;01mmath\u001b[39;00m\n\u001b[32m      2\u001b[39m math.sqrt(\u001b[32m25\u001b[39m)     \u001b[38;5;66;03m# ✅ Works\u001b[39;00m\n\u001b[32m----> \u001b[39m\u001b[32m3\u001b[39m \u001b[43mmath\u001b[49m\u001b[43m.\u001b[49m\u001b[43msqrt\u001b[49m\u001b[43m(\u001b[49m\u001b[43m-\u001b[49m\u001b[32;43m1\u001b[39;49m\u001b[43m)\u001b[49m     \u001b[38;5;66;03m# ❌ ValueError: math domain error\u001b[39;00m\n",
      "\u001b[31mValueError\u001b[39m: math domain error"
     ]
    }
   ],
   "source": [
    "import math\n",
    "math.sqrt(25)    \n",
    "math.sqrt(-1)    \n",
    "\n"
   ]
  },
  {
   "cell_type": "markdown",
   "metadata": {},
   "source": [
    "indexerror \n",
    "\n",
    "- An IndexError occurs when you try to access an index that doesn't exist in a list, tuple, string, or any sequence."
   ]
  },
  {
   "cell_type": "code",
   "execution_count": null,
   "metadata": {},
   "outputs": [
    {
     "ename": "IndexError",
     "evalue": "tuple index out of range",
     "output_type": "error",
     "traceback": [
      "\u001b[31m---------------------------------------------------------------------------\u001b[39m",
      "\u001b[31mIndexError\u001b[39m                                Traceback (most recent call last)",
      "\u001b[36mCell\u001b[39m\u001b[36m \u001b[39m\u001b[32mIn[8]\u001b[39m\u001b[32m, line 2\u001b[39m\n\u001b[32m      1\u001b[39m my_tuple = (\u001b[32m1\u001b[39m, \u001b[32m2\u001b[39m)\n\u001b[32m----> \u001b[39m\u001b[32m2\u001b[39m \u001b[38;5;28mprint\u001b[39m(\u001b[43mmy_tuple\u001b[49m\u001b[43m[\u001b[49m\u001b[32;43m5\u001b[39;49m\u001b[43m]\u001b[49m)  \u001b[38;5;66;03m# ❌ IndexError\u001b[39;00m\n",
      "\u001b[31mIndexError\u001b[39m: tuple index out of range"
     ]
    }
   ],
   "source": [
    "my_tuple = (1, 2)\n",
    "print(my_tuple[5])  \n"
   ]
  },
  {
   "cell_type": "markdown",
   "metadata": {},
   "source": [
    "keyerror \n",
    "\n",
    "- A KeyError occurs when you try to access a key that doesn't exist in a dictionary."
   ]
  },
  {
   "cell_type": "code",
   "execution_count": 9,
   "metadata": {},
   "outputs": [
    {
     "name": "stdout",
     "output_type": "stream",
     "text": [
      "Piyush\n"
     ]
    },
    {
     "ename": "KeyError",
     "evalue": "'age'",
     "output_type": "error",
     "traceback": [
      "\u001b[31m---------------------------------------------------------------------------\u001b[39m",
      "\u001b[31mKeyError\u001b[39m                                  Traceback (most recent call last)",
      "\u001b[36mCell\u001b[39m\u001b[36m \u001b[39m\u001b[32mIn[9]\u001b[39m\u001b[32m, line 3\u001b[39m\n\u001b[32m      1\u001b[39m my_dict = {\u001b[33m\"\u001b[39m\u001b[33mname\u001b[39m\u001b[33m\"\u001b[39m: \u001b[33m\"\u001b[39m\u001b[33mPiyush\u001b[39m\u001b[33m\"\u001b[39m, \u001b[33m\"\u001b[39m\u001b[33mcity\u001b[39m\u001b[33m\"\u001b[39m: \u001b[33m\"\u001b[39m\u001b[33mIndore\u001b[39m\u001b[33m\"\u001b[39m}\n\u001b[32m      2\u001b[39m \u001b[38;5;28mprint\u001b[39m(my_dict[\u001b[33m\"\u001b[39m\u001b[33mname\u001b[39m\u001b[33m\"\u001b[39m])   \u001b[38;5;66;03m# ✅ Piyush\u001b[39;00m\n\u001b[32m----> \u001b[39m\u001b[32m3\u001b[39m \u001b[38;5;28mprint\u001b[39m(\u001b[43mmy_dict\u001b[49m\u001b[43m[\u001b[49m\u001b[33;43m\"\u001b[39;49m\u001b[33;43mage\u001b[39;49m\u001b[33;43m\"\u001b[39;49m\u001b[43m]\u001b[49m)    \u001b[38;5;66;03m# ❌ KeyError: 'age'\u001b[39;00m\n",
      "\u001b[31mKeyError\u001b[39m: 'age'"
     ]
    }
   ],
   "source": [
    "my_dict = {\"name\": \"Piyush\", \"city\": \"Indore\"}\n",
    "print(my_dict[\"name\"])   # ✅ Piyush\n",
    "print(my_dict[\"age\"])    # ❌ KeyError: 'age'\n"
   ]
  },
  {
   "cell_type": "markdown",
   "metadata": {},
   "source": [
    "FileNotFoundError`\n",
    "- A FileNotFoundError occurs when you try to open or access a file that does not exist at the specified path."
   ]
  },
  {
   "cell_type": "code",
   "execution_count": 10,
   "metadata": {},
   "outputs": [
    {
     "ename": "FileNotFoundError",
     "evalue": "[Errno 2] No such file or directory: 'file.txt'",
     "output_type": "error",
     "traceback": [
      "\u001b[31m---------------------------------------------------------------------------\u001b[39m",
      "\u001b[31mFileNotFoundError\u001b[39m                         Traceback (most recent call last)",
      "\u001b[36mCell\u001b[39m\u001b[36m \u001b[39m\u001b[32mIn[10]\u001b[39m\u001b[32m, line 1\u001b[39m\n\u001b[32m----> \u001b[39m\u001b[32m1\u001b[39m \u001b[38;5;28;01mwith\u001b[39;00m \u001b[38;5;28;43mopen\u001b[39;49m\u001b[43m(\u001b[49m\u001b[33;43m'\u001b[39;49m\u001b[33;43mfile.txt\u001b[39;49m\u001b[33;43m'\u001b[39;49m\u001b[43m,\u001b[49m\u001b[43mmode\u001b[49m\u001b[43m=\u001b[49m\u001b[33;43m'\u001b[39;49m\u001b[33;43mr\u001b[39;49m\u001b[33;43m'\u001b[39;49m\u001b[43m)\u001b[49m \u001b[38;5;28;01mas\u001b[39;00m f:\n\u001b[32m      2\u001b[39m     f.read()\n\u001b[32m      3\u001b[39m     f.close()\n",
      "\u001b[36mFile \u001b[39m\u001b[32m/usr/lib/python3.13/site-packages/IPython/core/interactiveshell.py:327\u001b[39m, in \u001b[36m_modified_open\u001b[39m\u001b[34m(file, *args, **kwargs)\u001b[39m\n\u001b[32m    320\u001b[39m \u001b[38;5;28;01mif\u001b[39;00m file \u001b[38;5;129;01min\u001b[39;00m {\u001b[32m0\u001b[39m, \u001b[32m1\u001b[39m, \u001b[32m2\u001b[39m}:\n\u001b[32m    321\u001b[39m     \u001b[38;5;28;01mraise\u001b[39;00m \u001b[38;5;167;01mValueError\u001b[39;00m(\n\u001b[32m    322\u001b[39m         \u001b[33mf\u001b[39m\u001b[33m\"\u001b[39m\u001b[33mIPython won\u001b[39m\u001b[33m'\u001b[39m\u001b[33mt let you open fd=\u001b[39m\u001b[38;5;132;01m{\u001b[39;00mfile\u001b[38;5;132;01m}\u001b[39;00m\u001b[33m by default \u001b[39m\u001b[33m\"\u001b[39m\n\u001b[32m    323\u001b[39m         \u001b[33m\"\u001b[39m\u001b[33mas it is likely to crash IPython. If you know what you are doing, \u001b[39m\u001b[33m\"\u001b[39m\n\u001b[32m    324\u001b[39m         \u001b[33m\"\u001b[39m\u001b[33myou can use builtins\u001b[39m\u001b[33m'\u001b[39m\u001b[33m open.\u001b[39m\u001b[33m\"\u001b[39m\n\u001b[32m    325\u001b[39m     )\n\u001b[32m--> \u001b[39m\u001b[32m327\u001b[39m \u001b[38;5;28;01mreturn\u001b[39;00m \u001b[43mio_open\u001b[49m\u001b[43m(\u001b[49m\u001b[43mfile\u001b[49m\u001b[43m,\u001b[49m\u001b[43m \u001b[49m\u001b[43m*\u001b[49m\u001b[43margs\u001b[49m\u001b[43m,\u001b[49m\u001b[43m \u001b[49m\u001b[43m*\u001b[49m\u001b[43m*\u001b[49m\u001b[43mkwargs\u001b[49m\u001b[43m)\u001b[49m\n",
      "\u001b[31mFileNotFoundError\u001b[39m: [Errno 2] No such file or directory: 'file.txt'"
     ]
    }
   ],
   "source": [
    "with open('file.txt',mode='r') as f:\n",
    "    f.read()\n",
    "    f.close()"
   ]
  },
  {
   "cell_type": "markdown",
   "metadata": {},
   "source": [
    "attribute error \n",
    "\n",
    "- An AttributeError occurs when you try to access or call an attribute or method that doesn’t exist for that object."
   ]
  },
  {
   "cell_type": "code",
   "execution_count": 11,
   "metadata": {},
   "outputs": [
    {
     "ename": "AttributeError",
     "evalue": "'list' object has no attribute 'upper'",
     "output_type": "error",
     "traceback": [
      "\u001b[31m---------------------------------------------------------------------------\u001b[39m",
      "\u001b[31mAttributeError\u001b[39m                            Traceback (most recent call last)",
      "\u001b[36mCell\u001b[39m\u001b[36m \u001b[39m\u001b[32mIn[11]\u001b[39m\u001b[32m, line 2\u001b[39m\n\u001b[32m      1\u001b[39m my_list = [\u001b[32m1\u001b[39m, \u001b[32m2\u001b[39m, \u001b[32m3\u001b[39m]\n\u001b[32m----> \u001b[39m\u001b[32m2\u001b[39m \u001b[43mmy_list\u001b[49m\u001b[43m.\u001b[49m\u001b[43mupper\u001b[49m()    \u001b[38;5;66;03m# ❌ AttributeError: 'list' object has no attribute 'upper'\u001b[39;00m\n",
      "\u001b[31mAttributeError\u001b[39m: 'list' object has no attribute 'upper'"
     ]
    }
   ],
   "source": [
    "my_list = [1, 2, 3]\n",
    "my_list.upper()    # ❌ AttributeError: 'list' object has no attribute 'upper'\n"
   ]
  },
  {
   "cell_type": "markdown",
   "metadata": {},
   "source": [
    "import error \n",
    "\n",
    "- An ImportError occurs when Python cannot find the module you're trying to import.\n",
    "- there are two common import error \n",
    "\n",
    "|  Exception Name        | Description                                                                       |\n",
    "| --------------------- | --------------------------------------------------------------------------------- |\n",
    "| `ImportError`         | Raised when the whole **module** cannot be imported                               |\n",
    "| `ModuleNotFoundError` | A **subclass** of ImportError, occurs when **module is missing or not installed** |\n",
    " "
   ]
  },
  {
   "cell_type": "code",
   "execution_count": 12,
   "metadata": {},
   "outputs": [
    {
     "ename": "ModuleNotFoundError",
     "evalue": "No module named 'pandas'",
     "output_type": "error",
     "traceback": [
      "\u001b[31m---------------------------------------------------------------------------\u001b[39m",
      "\u001b[31mModuleNotFoundError\u001b[39m                       Traceback (most recent call last)",
      "\u001b[36mCell\u001b[39m\u001b[36m \u001b[39m\u001b[32mIn[12]\u001b[39m\u001b[32m, line 1\u001b[39m\n\u001b[32m----> \u001b[39m\u001b[32m1\u001b[39m \u001b[38;5;28;01mimport\u001b[39;00m\u001b[38;5;250m \u001b[39m\u001b[34;01mpandas\u001b[39;00m           \u001b[38;5;66;03m# ✅ If installed\u001b[39;00m\n\u001b[32m      2\u001b[39m \u001b[38;5;28;01mimport\u001b[39;00m\u001b[38;5;250m \u001b[39m\u001b[34;01mpandas123\u001b[39;00m        \u001b[38;5;66;03m# ❌ ImportError / ModuleNotFoundError\u001b[39;00m\n",
      "\u001b[31mModuleNotFoundError\u001b[39m: No module named 'pandas'"
     ]
    }
   ],
   "source": [
    "import pandas           # ✅ If installed\n",
    "import pandas123        # ❌ ImportError / ModuleNotFoundError\n"
   ]
  },
  {
   "cell_type": "markdown",
   "metadata": {},
   "source": [
    "name error \n",
    "\n",
    "- A NameError occurs when you try to use a variable, function, or object that hasn't been defined yet."
   ]
  },
  {
   "cell_type": "code",
   "execution_count": 14,
   "metadata": {},
   "outputs": [
    {
     "ename": "NameError",
     "evalue": "name 'age' is not defined",
     "output_type": "error",
     "traceback": [
      "\u001b[31m---------------------------------------------------------------------------\u001b[39m",
      "\u001b[31mNameError\u001b[39m                                 Traceback (most recent call last)",
      "\u001b[36mCell\u001b[39m\u001b[36m \u001b[39m\u001b[32mIn[14]\u001b[39m\u001b[32m, line 1\u001b[39m\n\u001b[32m----> \u001b[39m\u001b[32m1\u001b[39m \u001b[38;5;28mprint\u001b[39m(\u001b[43mage\u001b[49m)         \u001b[38;5;66;03m# ❌ NameError: name 'age' is not defined\u001b[39;00m\n\u001b[32m      2\u001b[39m age = \u001b[32m18\u001b[39m\n",
      "\u001b[31mNameError\u001b[39m: name 'age' is not defined"
     ]
    }
   ],
   "source": [
    "print(age)         # ❌ NameError: name 'age' is not defined\n",
    "age = 18\n"
   ]
  },
  {
   "cell_type": "code",
   "execution_count": 15,
   "metadata": {},
   "outputs": [
    {
     "ename": "NameError",
     "evalue": "name 'hello' is not defined",
     "output_type": "error",
     "traceback": [
      "\u001b[31m---------------------------------------------------------------------------\u001b[39m",
      "\u001b[31mNameError\u001b[39m                                 Traceback (most recent call last)",
      "\u001b[36mCell\u001b[39m\u001b[36m \u001b[39m\u001b[32mIn[15]\u001b[39m\u001b[32m, line 2\u001b[39m\n\u001b[32m      1\u001b[39m \u001b[38;5;66;03m# by calling a undefined function \u001b[39;00m\n\u001b[32m----> \u001b[39m\u001b[32m2\u001b[39m \u001b[43mhello\u001b[49m()            \u001b[38;5;66;03m# ❌ NameError: name 'hello' is not defined\u001b[39;00m\n\u001b[32m      4\u001b[39m \u001b[38;5;28;01mdef\u001b[39;00m\u001b[38;5;250m \u001b[39m\u001b[34mgreet\u001b[39m():\n\u001b[32m      5\u001b[39m     \u001b[38;5;28mprint\u001b[39m(\u001b[33m\"\u001b[39m\u001b[33mHi!\u001b[39m\u001b[33m\"\u001b[39m)\n",
      "\u001b[31mNameError\u001b[39m: name 'hello' is not defined"
     ]
    }
   ],
   "source": [
    "# by calling a undefined function \n",
    "hello()            # ❌ NameError: name 'hello' is not defined\n",
    "\n",
    "def greet():\n",
    "    print(\"Hi!\")\n",
    "\n",
    "greet()            # ✅ Works fine\n"
   ]
  },
  {
   "cell_type": "markdown",
   "metadata": {},
   "source": [
    "overflowerror error \n",
    "\n",
    "- An OverflowError occurs when a numerical calculation exceeds the maximum limit that a numeric type (like float) can handle."
   ]
  },
  {
   "cell_type": "code",
   "execution_count": 16,
   "metadata": {},
   "outputs": [
    {
     "ename": "OverflowError",
     "evalue": "math range error",
     "output_type": "error",
     "traceback": [
      "\u001b[31m---------------------------------------------------------------------------\u001b[39m",
      "\u001b[31mOverflowError\u001b[39m                             Traceback (most recent call last)",
      "\u001b[36mCell\u001b[39m\u001b[36m \u001b[39m\u001b[32mIn[16]\u001b[39m\u001b[32m, line 2\u001b[39m\n\u001b[32m      1\u001b[39m \u001b[38;5;28;01mimport\u001b[39;00m\u001b[38;5;250m \u001b[39m\u001b[34;01mmath\u001b[39;00m\n\u001b[32m----> \u001b[39m\u001b[32m2\u001b[39m \u001b[43mmath\u001b[49m\u001b[43m.\u001b[49m\u001b[43mexp\u001b[49m\u001b[43m(\u001b[49m\u001b[32;43m1000\u001b[39;49m\u001b[43m)\u001b[49m     \u001b[38;5;66;03m# ❌ OverflowError: math range error\u001b[39;00m\n",
      "\u001b[31mOverflowError\u001b[39m: math range error"
     ]
    }
   ],
   "source": [
    "import math\n",
    "math.exp(1000)     # ❌ OverflowError: math range error\n"
   ]
  },
  {
   "cell_type": "code",
   "execution_count": null,
   "metadata": {},
   "outputs": [
    {
     "name": "stdout",
     "output_type": "stream",
     "text": [
      "22\n"
     ]
    }
   ],
   "source": [
    "# valueerror\n",
    "\n",
    "length = 10\n",
    "width = 12\n",
    "area = length + width\n",
    "print(area) # this "
   ]
  }
 ],
 "metadata": {
  "kernelspec": {
   "display_name": "Python 3",
   "language": "python",
   "name": "python3"
  },
  "language_info": {
   "codemirror_mode": {
    "name": "ipython",
    "version": 3
   },
   "file_extension": ".py",
   "mimetype": "text/x-python",
   "name": "python",
   "nbconvert_exporter": "python",
   "pygments_lexer": "ipython3",
   "version": "3.13.3"
  }
 },
 "nbformat": 4,
 "nbformat_minor": 2
}

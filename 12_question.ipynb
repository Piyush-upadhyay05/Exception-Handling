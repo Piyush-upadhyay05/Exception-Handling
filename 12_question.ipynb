{
 "cells": [
  {
   "cell_type": "markdown",
   "metadata": {},
   "source": [
    "1. write a program that will sum number present in the given list "
   ]
  },
  {
   "cell_type": "code",
   "execution_count": 7,
   "metadata": {},
   "outputs": [
    {
     "name": "stdout",
     "output_type": "stream",
     "text": [
      "1\n",
      "3\n",
      "6\n",
      "10\n",
      "15\n",
      "21\n",
      "28\n"
     ]
    }
   ],
   "source": [
    "list = [1,2,3,4,5,6,7]\n",
    "sum = 0\n",
    "for x in list:\n",
    "    sum = sum +x \n",
    "    print(sum)"
   ]
  },
  {
   "cell_type": "code",
   "execution_count": 11,
   "metadata": {},
   "outputs": [
    {
     "name": "stdout",
     "output_type": "stream",
     "text": [
      "elementa is not an integer\n",
      "elementb is not an integer\n",
      "4\n"
     ]
    }
   ],
   "source": [
    "def sum_oflist(my_data):\n",
    "    sum = 0\n",
    "    for ele in my_data:\n",
    "        try:\n",
    "            int(ele)\n",
    "        except:\n",
    "            print(f\"element{ele} is not an integer\")\n",
    "        else:\n",
    "            sum = sum + ele\n",
    "    return sum\n",
    "print(sum_oflist([1,'a','b',3]))"
   ]
  },
  {
   "cell_type": "markdown",
   "metadata": {},
   "source": [
    "calculator "
   ]
  },
  {
   "cell_type": "code",
   "execution_count": 26,
   "metadata": {},
   "outputs": [
    {
     "data": {
      "text/plain": [
       "6"
      ]
     },
     "execution_count": 26,
     "metadata": {},
     "output_type": "execute_result"
    }
   ],
   "source": [
    "def calculator(x,y):\n",
    "    opeartions = input(\"enter (add/sub/mul.div)\")\n",
    "    if opeartions == \"add\":\n",
    "        return x+y\n",
    "    elif opeartions == \"sub\":\n",
    "        return x-y\n",
    "    elif opeartions == \"mul\":\n",
    "        return x*y\n",
    "    elif opeartions == \"div\":\n",
    "        return(x/y)\n",
    "    else:\n",
    "        print(\"invalid syntax\")\n",
    "\n",
    "calculator(5,1)"
   ]
  },
  {
   "cell_type": "code",
   "execution_count": 36,
   "metadata": {},
   "outputs": [
    {
     "name": "stdout",
     "output_type": "stream",
     "text": [
      "2.0 - 1.0 = 1.0\n"
     ]
    }
   ],
   "source": [
    "class operationerror(Exception):\n",
    "    pass\n",
    "class operatorerror(Exception):\n",
    "    pass\n",
    "def calculator():\n",
    "    operations = ('+','-','*','/')\n",
    "    try:\n",
    "        use_input = input(\"please enter an operations\")\n",
    "        element = use_input.split()\n",
    "        if len(element) != 3:\n",
    "            raise operationerror(\"please enter 3 element\")\n",
    "        operator = element[1]\n",
    "        if operator not in operations:\n",
    "            raise operatorerror(f\"{operator} is not valid enter the valid {opeartions}\")\n",
    "        num1 = float(element[0])\n",
    "        num2 = float(element[2])\n",
    "        if operator == '/' and num2 == 0:\n",
    "            raise ZeroDivisionError(\"can not divide by zero\")\n",
    "        \n",
    "        \n",
    "    except Exception as e:\n",
    "        print(e)\n",
    "        print(\"Try again\")\n",
    "        calculator()\n",
    "    else:\n",
    "        if operator == '+':\n",
    "            result = num1+num2\n",
    "        elif operator == '-':\n",
    "            result = num1-num2\n",
    "        elif operator == '*':\n",
    "            result = num1 * num2\n",
    "        elif operator =='/':\n",
    "            result = num1/num2\n",
    "    finally:\n",
    "        return f\"{num1} {operator} {num2} = {result}\"\n",
    "\n",
    "\n",
    "\n",
    "final_result = calculator()\n",
    "print(final_result)"
   ]
  },
  {
   "cell_type": "markdown",
   "metadata": {},
   "source": [
    "mainly 4 type of exception occur in calculator here we handle the exception "
   ]
  }
 ],
 "metadata": {
  "kernelspec": {
   "display_name": "Python 3",
   "language": "python",
   "name": "python3"
  },
  "language_info": {
   "codemirror_mode": {
    "name": "ipython",
    "version": 3
   },
   "file_extension": ".py",
   "mimetype": "text/x-python",
   "name": "python",
   "nbconvert_exporter": "python",
   "pygments_lexer": "ipython3",
   "version": "3.13.5"
  }
 },
 "nbformat": 4,
 "nbformat_minor": 2
}

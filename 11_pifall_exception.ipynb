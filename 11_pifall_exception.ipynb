{
 "cells": [
  {
   "cell_type": "markdown",
   "metadata": {},
   "source": [
    "summary of pifall exception"
   ]
  },
  {
   "cell_type": "markdown",
   "metadata": {},
   "source": [
    "| Pitfall                    | Why it’s bad                | Fix                       |\n",
    "| -------------------------- | --------------------------- | ------------------------- |\n",
    "| Catching too broadly       | Hides real cause            | Catch specific exceptions |\n",
    "| Bare `except:`             | Catches unwanted exceptions | Use `except Exception`    |\n",
    "| Replacing error            | Loses original traceback    | Use `raise ... from e`    |\n",
    "| Too much in `try`          | Hard to debug               | Narrow try blocks         |\n",
    "| No cleanup                 | Resource leaks              | Use `finally` or `with`   |\n",
    "| Using exceptions for logic | Slower & messy              | Use built-in checks       |\n"
   ]
  },
  {
   "cell_type": "code",
   "execution_count": 1,
   "metadata": {},
   "outputs": [
    {
     "name": "stdout",
     "output_type": "stream",
     "text": [
      "array\n",
      "leet-code\n",
      "string\n",
      "read operation success\n"
     ]
    }
   ],
   "source": [
    "try:\n",
    "    f = open(\"leetcode.txt\",mode='r')\n",
    "    my_data = f.read()\n",
    "    print(my_data)\n",
    "except Exception as e:\n",
    "    print(e)\n",
    "else:\n",
    "    print(\"read operation success\")\n",
    "finally:\n",
    "    try:\n",
    "        f.close()\n",
    "    except:\n",
    "        pass\n"
   ]
  },
  {
   "cell_type": "code",
   "execution_count": 5,
   "metadata": {},
   "outputs": [
    {
     "name": "stdout",
     "output_type": "stream",
     "text": [
      "[Errno 2] No such file or directory: 'read.txt'\n"
     ]
    }
   ],
   "source": [
    "try:\n",
    "    f = open(\"read.txt\",mode='r')\n",
    "    my_data = f.read()\n",
    "    print(my_data)\n",
    "except Exception as e:\n",
    "    print(e)\n",
    "else:\n",
    "    print(\"read operation success\")\n",
    "finally:\n",
    "    f.close()\n",
    "   \n"
   ]
  },
  {
   "cell_type": "markdown",
   "metadata": {},
   "source": [
    "this error is fixed by using try except in finally block"
   ]
  },
  {
   "cell_type": "code",
   "execution_count": 7,
   "metadata": {},
   "outputs": [
    {
     "name": "stdout",
     "output_type": "stream",
     "text": [
      "[Errno 2] No such file or directory: 'read.txt'\n"
     ]
    }
   ],
   "source": [
    "try:\n",
    "    f = open(\"read.txt\",mode='r')\n",
    "    my_data = f.read()\n",
    "    print(my_data)\n",
    "except Exception as e:\n",
    "    print(e)\n",
    "else:\n",
    "    print(\"read operation success\")\n",
    "finally:\n",
    "    try:\n",
    "        f.close()\n",
    "    except:\n",
    "        pass"
   ]
  }
 ],
 "metadata": {
  "kernelspec": {
   "display_name": "Python 3",
   "language": "python",
   "name": "python3"
  },
  "language_info": {
   "codemirror_mode": {
    "name": "ipython",
    "version": 3
   },
   "file_extension": ".py",
   "mimetype": "text/x-python",
   "name": "python",
   "nbconvert_exporter": "python",
   "pygments_lexer": "ipython3",
   "version": "3.13.5"
  }
 },
 "nbformat": 4,
 "nbformat_minor": 2
}

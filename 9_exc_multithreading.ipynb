{
 "cells": [
  {
   "cell_type": "markdown",
   "metadata": {},
   "source": [
    "exception in multithreading "
   ]
  },
  {
   "cell_type": "code",
   "execution_count": 1,
   "metadata": {},
   "outputs": [
    {
     "name": "stderr",
     "output_type": "stream",
     "text": [
      "Exception in thread Thread-3 (worker):\n",
      "Traceback (most recent call last):\n",
      "  File \u001b[35m\"/usr/lib/python3.13/threading.py\"\u001b[0m, line \u001b[35m1043\u001b[0m, in \u001b[35m_bootstrap_inner\u001b[0m\n",
      "    \u001b[31mself.run\u001b[0m\u001b[1;31m()\u001b[0m\n",
      "    \u001b[31m~~~~~~~~\u001b[0m\u001b[1;31m^^\u001b[0m\n",
      "  File \u001b[35m\"/usr/lib/python3.13/site-packages/ipykernel/ipkernel.py\"\u001b[0m, line \u001b[35m772\u001b[0m, in \u001b[35mrun_closure\u001b[0m\n",
      "    \u001b[31m_threading_Thread_run\u001b[0m\u001b[1;31m(self)\u001b[0m\n",
      "    \u001b[31m~~~~~~~~~~~~~~~~~~~~~\u001b[0m\u001b[1;31m^^^^^^\u001b[0m\n",
      "  File \u001b[35m\"/usr/lib/python3.13/threading.py\"\u001b[0m, line \u001b[35m994\u001b[0m, in \u001b[35mrun\u001b[0m\n",
      "    \u001b[31mself._target\u001b[0m\u001b[1;31m(*self._args, **self._kwargs)\u001b[0m\n",
      "    \u001b[31m~~~~~~~~~~~~\u001b[0m\u001b[1;31m^^^^^^^^^^^^^^^^^^^^^^^^^^^^^\u001b[0m\n",
      "  File \u001b[35m\"/tmp/ipykernel_29132/654045283.py\"\u001b[0m, line \u001b[35m5\u001b[0m, in \u001b[35mworker\u001b[0m\n",
      "    print(\u001b[31m1 \u001b[0m\u001b[1;31m/\u001b[0m\u001b[31m 0\u001b[0m)  # This will cause ZeroDivisionError\n",
      "          \u001b[31m~~\u001b[0m\u001b[1;31m^\u001b[0m\u001b[31m~~\u001b[0m\n",
      "\u001b[1;35mZeroDivisionError\u001b[0m: \u001b[35mdivision by zero\u001b[0m\n"
     ]
    },
    {
     "name": "stdout",
     "output_type": "stream",
     "text": [
      "Thread starting...\n",
      "Main thread continues...\n"
     ]
    }
   ],
   "source": [
    "import threading\n",
    "\n",
    "def worker():\n",
    "    print(\"Thread starting...\")\n",
    "    print(1 / 0)  # This will cause ZeroDivisionError\n",
    "    print(\"Thread finished.\")\n",
    "\n",
    "t = threading.Thread(target=worker)\n",
    "t.start()\n",
    "t.join()\n",
    "print(\"Main thread continues...\")\n"
   ]
  },
  {
   "cell_type": "markdown",
   "metadata": {},
   "source": [
    "handling it using exception handling "
   ]
  },
  {
   "cell_type": "code",
   "execution_count": 2,
   "metadata": {},
   "outputs": [
    {
     "name": "stdout",
     "output_type": "stream",
     "text": [
      "Thread starting...\n",
      "Caught in thread: division by zero\n",
      "Thread cleanup done.\n",
      "Main thread continues...\n"
     ]
    }
   ],
   "source": [
    "import threading\n",
    "\n",
    "def worker():\n",
    "    try:\n",
    "        print(\"Thread starting...\")\n",
    "        print(1 / 0)\n",
    "    except Exception as e:\n",
    "        print(f\"Caught in thread: {e}\")\n",
    "    finally:\n",
    "        print(\"Thread cleanup done.\")\n",
    "\n",
    "t = threading.Thread(target=worker)\n",
    "t.start()\n",
    "t.join()\n",
    "print(\"Main thread continues...\")\n"
   ]
  },
  {
   "cell_type": "markdown",
   "metadata": {},
   "source": [
    "retunring exception to the main thread "
   ]
  },
  {
   "cell_type": "code",
   "execution_count": 3,
   "metadata": {},
   "outputs": [
    {
     "name": "stdout",
     "output_type": "stream",
     "text": [
      "Thread starting...\n",
      "Main thread got error from thread: division by zero\n"
     ]
    }
   ],
   "source": [
    "import threading\n",
    "\n",
    "def worker(results):\n",
    "    try:\n",
    "        print(\"Thread starting...\")\n",
    "        print(1 / 0)\n",
    "    except Exception as e:\n",
    "        results[\"error\"] = e\n",
    "\n",
    "results = {}\n",
    "t = threading.Thread(target=worker, args=(results,))\n",
    "t.start()\n",
    "t.join()\n",
    "\n",
    "if \"error\" in results:\n",
    "    print(f\"Main thread got error from thread: {results['error']}\")\n"
   ]
  }
 ],
 "metadata": {
  "kernelspec": {
   "display_name": "Python 3",
   "language": "python",
   "name": "python3"
  },
  "language_info": {
   "codemirror_mode": {
    "name": "ipython",
    "version": 3
   },
   "file_extension": ".py",
   "mimetype": "text/x-python",
   "name": "python",
   "nbconvert_exporter": "python",
   "pygments_lexer": "ipython3",
   "version": "3.13.5"
  }
 },
 "nbformat": 4,
 "nbformat_minor": 2
}
